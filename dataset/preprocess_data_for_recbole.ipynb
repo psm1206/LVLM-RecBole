{
 "cells": [
  {
   "cell_type": "markdown",
   "id": "b7948d36",
   "metadata": {},
   "source": [
    "## Data Preprocessing\n",
    "1. Save id_map.json\n",
    "2. Save {dataset_name}.inter"
   ]
  },
  {
   "cell_type": "code",
   "execution_count": 2,
   "id": "38ded45a",
   "metadata": {},
   "outputs": [],
   "source": [
    "import pandas as pd\n",
    "\n",
    "from utils.dataset import amazon_dataset2fullname"
   ]
  },
  {
   "cell_type": "code",
   "execution_count": 23,
   "id": "b4d393a4",
   "metadata": {},
   "outputs": [],
   "source": [
    "# 경로: {dataset_name}/\n",
    "# Given files\n",
    "\"\"\"\n",
    "    reviews_{full_dataset_name}_5.json\n",
    "    meta_{full_dataset_name}.json\n",
    "\n",
    "\"\"\"\n",
    "\n",
    "dataset_name = \"clothing\"\n",
    "full_dataset_name = amazon_dataset2fullname[dataset_name]\n",
    "\n",
    "reviews_path = f\"{dataset_name}/reviews_{full_dataset_name}_5.json\"\n",
    "\n",
    "rating_df = pd.read_json(reviews_path, lines=True, encoding='utf-8')\n",
    "   "
   ]
  },
  {
   "cell_type": "markdown",
   "id": "fcb11cde",
   "metadata": {},
   "source": [
    "## Save .inter"
   ]
  },
  {
   "cell_type": "code",
   "execution_count": null,
   "id": "42971a48",
   "metadata": {},
   "outputs": [
    {
     "name": "stderr",
     "output_type": "stream",
     "text": [
      "/tmp/ipykernel_1822050/701035166.py:4: SettingWithCopyWarning: \n",
      "A value is trying to be set on a copy of a slice from a DataFrame.\n",
      "Try using .loc[row_indexer,col_indexer] = value instead\n",
      "\n",
      "See the caveats in the documentation: https://pandas.pydata.org/pandas-docs/stable/user_guide/indexing.html#returning-a-view-versus-a-copy\n",
      "  uirt_df['overall'] = uirt_df['overall'].astype(float)\n",
      "/tmp/ipykernel_1822050/701035166.py:5: SettingWithCopyWarning: \n",
      "A value is trying to be set on a copy of a slice from a DataFrame.\n",
      "Try using .loc[row_indexer,col_indexer] = value instead\n",
      "\n",
      "See the caveats in the documentation: https://pandas.pydata.org/pandas-docs/stable/user_guide/indexing.html#returning-a-view-versus-a-copy\n",
      "  uirt_df['unixReviewTime'] = uirt_df['unixReviewTime'].astype(int)\n"
     ]
    }
   ],
   "source": [
    "# select columns\n",
    "uirt_df = rating_df[['reviewerID', 'asin', 'overall', 'unixReviewTime']]\n",
    "\n",
    "# str to float\n",
    "uirt_df['overall'] = uirt_df['overall'].astype(float)\n",
    "uirt_df['unixReviewTime'] = uirt_df['unixReviewTime'].astype(int)\n",
    "\n",
    "# rename columns\n",
    "uirt_df.columns = ['user_id:token', 'item_id:token', 'rating:float', 'timestamp:float']\n",
    "\n",
    "# save to csv\n",
    "uirt_df.to_csv(f\"{dataset_name}/{dataset_name}.inter\", index=False, sep='\\t')"
   ]
  },
  {
   "cell_type": "markdown",
   "id": "3f182f3d",
   "metadata": {},
   "source": [
    "## Save id_map.json"
   ]
  },
  {
   "cell_type": "code",
   "execution_count": 34,
   "id": "fbc92dda",
   "metadata": {},
   "outputs": [
    {
     "data": {
      "text/plain": [
       "dict_keys(['user2id', 'item2id', 'id2user', 'id2item', 'attribute2id', 'id2attribute', 'attributeid2num'])"
      ]
     },
     "execution_count": 34,
     "metadata": {},
     "output_type": "execute_result"
    }
   ],
   "source": [
    "import json\n",
    "\n",
    "# for reference\n",
    "dataset_name = 'beauty'\n",
    "id_map_path = f\"{dataset_name}/id_map.json\"\n",
    "with open(id_map_path, 'r') as f:\n",
    "    id_map = json.load(f)\n",
    "\n",
    "id_map.keys()\n"
   ]
  },
  {
   "cell_type": "code",
   "execution_count": 35,
   "id": "fbd244d8",
   "metadata": {},
   "outputs": [
    {
     "data": {
      "text/plain": [
       "Index(['reviewerID', 'asin', 'reviewerName', 'helpful', 'reviewText',\n",
       "       'overall', 'summary', 'unixReviewTime', 'reviewTime'],\n",
       "      dtype='object')"
      ]
     },
     "execution_count": 35,
     "metadata": {},
     "output_type": "execute_result"
    }
   ],
   "source": [
    "rating_df.keys()"
   ]
  },
  {
   "cell_type": "code",
   "execution_count": 49,
   "id": "1436cd9b",
   "metadata": {},
   "outputs": [],
   "source": [
    "import numpy as np\n",
    "import pandas as pd\n",
    "import json\n",
    "\n",
    "# 경로와 설정\n",
    "dataset_name = 'home'\n",
    "\n",
    "inter_path = f\"{dataset_name}/{dataset_name}.inter\"  # 변경\n",
    "field_separator = \"\\t\"\n",
    "encoding = \"utf-8\"\n",
    "\n",
    "# 1) 헤더 파싱해서 컬럼 이름만 추출 (user_id, item_id 등)\n",
    "with open(inter_path, \"r\", encoding=encoding) as f:\n",
    "    head = f.readline().rstrip(\"\\n\")\n",
    "\n",
    "columns, usecols, dtypes = [], [], {}\n",
    "for field_type in head.split(field_separator):\n",
    "    field, ftype = field_type.split(\":\")\n",
    "    columns.append(field)\n",
    "    usecols.append(field_type)\n",
    "    dtypes[field_type] = str  # TOKEN은 str로 읽음 (FLOAT이면 np.float64)\n",
    "\n",
    "# 2) 필요한 컬럼만 로드\n",
    "df = pd.read_csv(\n",
    "    inter_path,\n",
    "    delimiter=field_separator,\n",
    "    usecols=usecols,\n",
    "    dtype=dtypes,\n",
    "    encoding=encoding,\n",
    "    engine=\"python\",\n",
    ")\n",
    "df.columns = columns\n",
    "\n",
    "# 3) RecBole 스타일 factorize 함수(+1, [PAD]=0, id->token/token->id)\n",
    "def recbole_factorize_token_series(series: pd.Series):\n",
    "    ids, uniques = pd.factorize(series.values)  # 0..K-1\n",
    "    new_ids = ids + 1                           # 1..K\n",
    "    mp = np.array([\"[PAD]\"] + list(uniques))    # id -> token\n",
    "    token2id = {t: i for i, t in enumerate(mp)} # token -> id\n",
    "    return new_ids.astype(np.int64), mp, token2id\n",
    "\n",
    "# 4) user_id, item_id에 적용 (컬럼명이 다르면 바꿔주세요)\n",
    "user_ids, user_id_mp, user_token2id = recbole_factorize_token_series(df[\"user_id\"])\n",
    "item_ids, item_id_mp, item_token2id = recbole_factorize_token_series(df[\"item_id\"])\n",
    "\n",
    "# 5) 매핑 결과를 데이터프레임에 반영(선택)\n",
    "df_mapped = df.copy()\n",
    "df_mapped[\"user_id\"] = user_ids\n",
    "df_mapped[\"item_id\"] = item_ids\n",
    "\n",
    "user_token2id.pop('[PAD]')\n",
    "item_token2id.pop('[PAD]')\n",
    "\n",
    "# id to str in user_token2id\n",
    "user_token2id = {k: str(v) for k, v in user_token2id.items()}\n",
    "item_token2id = {k: str(v) for k, v in item_token2id.items()}\n",
    "\n",
    "# user_token2id의 key, value 뒤집기\n",
    "user_id2token = {v: k for k, v in user_token2id.items()}\n",
    "item_id2token = {v: k for k, v in item_token2id.items()}\n",
    "\n",
    "# 6) 필요시 매핑 테이블을 파일로 저장(선택)\n",
    "save_json = True\n",
    "if save_json:\n",
    "    with open(f\"{dataset_name}/id_map.json\", \"w\", encoding=\"utf-8\") as f:\n",
    "        json.dump(\n",
    "            {\n",
    "                \"user2id\": user_token2id,\n",
    "                \"item2id\": item_token2id,\n",
    "                \"id2user\": user_id2token,\n",
    "                \"id2item\": item_id2token,\n",
    "            },\n",
    "            f,\n",
    "            ensure_ascii=False,\n",
    "        )\n"
   ]
  },
  {
   "cell_type": "code",
   "execution_count": null,
   "id": "bd5d069e",
   "metadata": {},
   "outputs": [],
   "source": []
  }
 ],
 "metadata": {
  "kernelspec": {
   "display_name": "lvlm-rec",
   "language": "python",
   "name": "python3"
  },
  "language_info": {
   "codemirror_mode": {
    "name": "ipython",
    "version": 3
   },
   "file_extension": ".py",
   "mimetype": "text/x-python",
   "name": "python",
   "nbconvert_exporter": "python",
   "pygments_lexer": "ipython3",
   "version": "3.13.2"
  }
 },
 "nbformat": 4,
 "nbformat_minor": 5
}
