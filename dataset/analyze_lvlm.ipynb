{
 "cells": [
  {
   "cell_type": "code",
   "execution_count": 4,
   "id": "964fa738",
   "metadata": {},
   "outputs": [
    {
     "name": "stderr",
     "output_type": "stream",
     "text": [
      "Loading checkpoint shards: 100%|██████████| 3/3 [00:01<00:00,  1.57it/s]\n"
     ]
    },
    {
     "name": "stdout",
     "output_type": "stream",
     "text": [
      "Single-modal [[0.358642578125, 0.06597900390625], [0.041656494140625, 0.3759765625]]\n",
      "Single-modal with instruction [[0.42822265625, 0.11578369140625], [0.0498046875, 0.410400390625]]\n",
      "Fused-modal [[1.0009765625, 0.0555419921875], [0.0555419921875, 0.99951171875]]\n"
     ]
    }
   ],
   "source": [
    "import os\n",
    "import requests\n",
    "\n",
    "from transformers import AutoModel\n",
    "from transformers.utils.versions import require_version\n",
    "\n",
    "\n",
    "require_version(\n",
    "    \"transformers<4.52.0\",\n",
    "    \"The remote code has some issues with transformers>=4.52.0, please downgrade: pip install transformers==4.51.3\"\n",
    ")\n",
    "\n",
    "# Disable tokenizers parallelism warning\n",
    "os.environ.setdefault('TOKENIZERS_PARALLELISM', 'false')\n",
    "\n",
    "# Patch requests.get globally to ensure proper headers/timeout for image URLs\n",
    "_orig_requests_get = requests.get\n",
    "\n",
    "def _patched_requests_get(url, *args, **kwargs):\n",
    "    headers = kwargs.pop('headers', None) or {\n",
    "        'User-Agent': 'Mozilla/5.0 (X11; Linux x86_64) AppleWebKit/537.36 (KHTML, like Gecko) Chrome/127.0.0.0 Safari/537.36'\n",
    "    }\n",
    "    timeout = kwargs.pop('timeout', 30)\n",
    "    resp = _orig_requests_get(url, *args, headers=headers, timeout=timeout, stream=kwargs.get('stream'))\n",
    "    return resp\n",
    "\n",
    "requests.get = _patched_requests_get\n",
    "\n",
    "\n",
    "t2i_prompt = 'Find an image that matches the given text.'\n",
    "texts = [\n",
    "    \"The Tesla Cybertruck is a battery electric pickup truck built by Tesla, Inc. since 2023.\",\n",
    "    \"Alibaba office.\",\n",
    "]\n",
    "images = [\n",
    "    'https://upload.wikimedia.org/wikipedia/commons/e/e9/Tesla_Cybertruck_damaged_window.jpg',\n",
    "    'https://upload.wikimedia.org/wikipedia/commons/e/e0/TaobaoCity_Alibaba_Xixi_Park.jpg',\n",
    "]\n",
    "\n",
    "\n",
    "gme = AutoModel.from_pretrained(\n",
    "    \"Alibaba-NLP/gme-Qwen2-VL-2B-Instruct\",\n",
    "    torch_dtype=\"float16\", device_map='cuda', trust_remote_code=True\n",
    ")\n",
    "\n",
    "\n",
    "# Single-modal embedding\n",
    "e_text = gme.get_text_embeddings(texts=texts)\n",
    "e_image = gme.get_image_embeddings(images=images)\n",
    "print('Single-modal', (e_text @ e_image.T).tolist())\n",
    "## Single-modal [[0.359619140625, 0.0655517578125], [0.04180908203125, 0.374755859375]]\n",
    "\n",
    "# How to set embedding instruction\n",
    "e_query = gme.get_text_embeddings(texts=texts, instruction=t2i_prompt)\n",
    "# If is_query=False, we always use the default instruction.\n",
    "e_corpus = gme.get_image_embeddings(images=images, is_query=False)\n",
    "print('Single-modal with instruction', (e_query @ e_corpus.T).tolist())\n",
    "## Single-modal with instruction [[0.429931640625, 0.11505126953125], [0.049835205078125, 0.409423828125]]\n",
    "\n",
    "# Fused-modal embedding\n",
    "e_fused = gme.get_fused_embeddings(texts=texts, images=images)\n",
    "print('Fused-modal', (e_fused @ e_fused.T).tolist())\n",
    "## Fused-modal [[1.0, 0.05511474609375], [0.05511474609375, 1.0]]\n"
   ]
  },
  {
   "cell_type": "code",
   "execution_count": null,
   "id": "3a6ca1c1",
   "metadata": {},
   "outputs": [],
   "source": []
  }
 ],
 "metadata": {
  "kernelspec": {
   "display_name": "lvlm-rec",
   "language": "python",
   "name": "python3"
  },
  "language_info": {
   "codemirror_mode": {
    "name": "ipython",
    "version": 3
   },
   "file_extension": ".py",
   "mimetype": "text/x-python",
   "name": "python",
   "nbconvert_exporter": "python",
   "pygments_lexer": "ipython3",
   "version": "3.13.2"
  }
 },
 "nbformat": 4,
 "nbformat_minor": 5
}
